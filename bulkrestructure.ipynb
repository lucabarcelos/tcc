{
 "cells": [
  {
   "cell_type": "code",
   "execution_count": 1,
   "metadata": {},
   "outputs": [],
   "source": [
    "import os"
   ]
  },
  {
   "cell_type": "code",
   "execution_count": 10,
   "metadata": {},
   "outputs": [],
   "source": [
    "class_to_idx = {'dog': 0, 'cat': 1, 'horse': 2, 'spider': 3, 'butterfly': 4, \n",
    "                'chicken': 5, 'sheep': 6, 'cow': 7, 'squirrel': 8, 'elephant': 9}\n",
    "\n",
    "models = [\n",
    "    \"stable_diffusion_2_1\",\n",
    "    \"realistic_vision_1_4\",\n",
    "    \"kandinsky_2_2\",\n",
    "    \"openjourney_v4\"\n",
    "]\n",
    "\n",
    "for model in models:\n",
    "    for (subject, idx) in class_to_idx.items():\n",
    "        os.makedirs(f'generated_datasets/animals/{model}/256/{subject}', exist_ok=True)\n",
    "        os.makedirs(f'generated_datasets/animals/{model}/native/{subject}', exist_ok=True)\n",
    "\n",
    "        index = 0\n",
    "        for i in range (idx, 10000, 10):\n",
    "            os.rename(f'generated_datasets/animals/{model}/256/{i}.png', f'generated_datasets/animals/{model}/256/{subject}/{index}.png')\n",
    "            os.rename(f'generated_datasets/animals/{model}/native/{i}.png', f'generated_datasets/animals/{model}/native/{subject}/{index}.png')\n",
    "            index += 1"
   ]
  },
  {
   "cell_type": "code",
   "execution_count": null,
   "metadata": {},
   "outputs": [],
   "source": []
  }
 ],
 "metadata": {
  "kernelspec": {
   "display_name": "tcc",
   "language": "python",
   "name": "python3"
  },
  "language_info": {
   "codemirror_mode": {
    "name": "ipython",
    "version": 3
   },
   "file_extension": ".py",
   "mimetype": "text/x-python",
   "name": "python",
   "nbconvert_exporter": "python",
   "pygments_lexer": "ipython3",
   "version": "3.10.12"
  }
 },
 "nbformat": 4,
 "nbformat_minor": 2
}
