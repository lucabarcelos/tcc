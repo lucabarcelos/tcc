{
 "cells": [
  {
   "cell_type": "code",
   "execution_count": 1,
   "metadata": {},
   "outputs": [],
   "source": [
    "import pandas as pd\n",
    "import re"
   ]
  },
  {
   "cell_type": "code",
   "execution_count": 4,
   "metadata": {},
   "outputs": [],
   "source": [
    "def parse_log_file(file_path):\n",
    "    # Regular expression to match the log line pattern with optional model\n",
    "    pattern = re.compile(r\"Theme: (\\w+),\\s*(Model: [\\w_]+,)?\\s*Dataset: (\\w+), Accuracy: ([0-9.]+)\")\n",
    "\n",
    "    # Initialize an empty list to store the parsed data\n",
    "    data = []\n",
    "\n",
    "    with open(file_path, 'r') as file:\n",
    "        for line in file:\n",
    "            # Search for the pattern in each line\n",
    "            match = pattern.search(line)\n",
    "            if match:\n",
    "                # Extract theme, optional model, dataset, and accuracy\n",
    "                theme, model, dataset, accuracy = match.groups()\n",
    "                accuracy = float(accuracy)  # Convert accuracy to float\n",
    "                model = model.split(': ')[1] if model else None  # Extract model or set to None\n",
    "                data.append({'theme': theme, 'model': model, 'dataset': dataset, 'accuracy': accuracy})\n",
    "\n",
    "    # Create a DataFrame from the parsed data\n",
    "    df = pd.DataFrame(data)\n",
    "    return df"
   ]
  },
  {
   "cell_type": "code",
   "execution_count": 6,
   "metadata": {},
   "outputs": [
    {
     "name": "stdout",
     "output_type": "stream",
     "text": [
      "       theme                  model      dataset  accuracy\n",
      "0    animals                   None         Real  0.646341\n",
      "1    animals                   None  Subset_real  0.554878\n",
      "2    animals  stable_diffusion_2_1,   Artificial  0.335366\n",
      "3    animals  stable_diffusion_2_1,        Mixed  0.646341\n",
      "4    animals  realistic_vision_1_4,   Artificial  0.237805\n",
      "..       ...                    ...          ...       ...\n",
      "329   fruits  realistic_vision_1_4,        Mixed  0.634921\n",
      "330   fruits         kandinsky_2_2,   Artificial  0.333333\n",
      "331   fruits         kandinsky_2_2,        Mixed  0.682540\n",
      "332   fruits        openjourney_v4,   Artificial  0.349206\n",
      "333   fruits        openjourney_v4,        Mixed  0.777778\n",
      "\n",
      "[334 rows x 4 columns]\n"
     ]
    }
   ],
   "source": [
    "df = parse_log_file('testlogs.txt')\n",
    "print(df)"
   ]
  },
  {
   "cell_type": "code",
   "execution_count": null,
   "metadata": {},
   "outputs": [],
   "source": []
  }
 ],
 "metadata": {
  "kernelspec": {
   "display_name": "tcc",
   "language": "python",
   "name": "python3"
  },
  "language_info": {
   "codemirror_mode": {
    "name": "ipython",
    "version": 3
   },
   "file_extension": ".py",
   "mimetype": "text/x-python",
   "name": "python",
   "nbconvert_exporter": "python",
   "pygments_lexer": "ipython3",
   "version": "3.10.12"
  }
 },
 "nbformat": 4,
 "nbformat_minor": 2
}
