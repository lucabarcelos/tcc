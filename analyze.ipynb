{
 "cells": [
  {
   "cell_type": "code",
   "execution_count": 1,
   "metadata": {},
   "outputs": [],
   "source": [
    "import pandas as pd\n",
    "from utils import parse_log_file"
   ]
  },
  {
   "cell_type": "code",
   "execution_count": 2,
   "metadata": {},
   "outputs": [
    {
     "name": "stdout",
     "output_type": "stream",
     "text": [
      "       theme                  model      dataset  accuracy\n",
      "0    animals                   None         Real  0.646341\n",
      "1    animals                   None  Subset_real  0.554878\n",
      "2    animals  stable_diffusion_2_1,   Artificial  0.335366\n",
      "3    animals  stable_diffusion_2_1,        Mixed  0.646341\n",
      "4    animals  realistic_vision_1_4,   Artificial  0.237805\n",
      "..       ...                    ...          ...       ...\n",
      "329   fruits  realistic_vision_1_4,        Mixed  0.634921\n",
      "330   fruits         kandinsky_2_2,   Artificial  0.333333\n",
      "331   fruits         kandinsky_2_2,        Mixed  0.682540\n",
      "332   fruits        openjourney_v4,   Artificial  0.349206\n",
      "333   fruits        openjourney_v4,        Mixed  0.777778\n",
      "\n",
      "[334 rows x 4 columns]\n"
     ]
    }
   ],
   "source": [
    "df = pd.DataFrame(parse_log_file('testlogs.txt'))\n",
    "print(df)"
   ]
  },
  {
   "cell_type": "code",
   "execution_count": 4,
   "metadata": {},
   "outputs": [
    {
     "name": "stdout",
     "output_type": "stream",
     "text": [
      "      theme                  model      dataset  accuracy\n",
      "0   animals                   None         Real  0.687195\n",
      "1   animals                   None  Subset_real  0.526220\n",
      "2   animals         kandinsky_2_2,   Artificial  0.209884\n",
      "3   animals         kandinsky_2_2,        Mixed  0.605905\n",
      "4   animals        openjourney_v4,   Artificial  0.260911\n",
      "5   animals        openjourney_v4,        Mixed  0.641528\n",
      "6   animals  realistic_vision_1_4,   Artificial  0.256739\n",
      "7   animals  realistic_vision_1_4,        Mixed  0.620347\n",
      "8   animals  stable_diffusion_2_1,   Artificial  0.318598\n",
      "9   animals  stable_diffusion_2_1,        Mixed  0.627134\n",
      "10   fruits                   None         Real  0.540816\n",
      "11   fruits                   None  Subset_real  0.462585\n",
      "12   fruits         kandinsky_2_2,   Artificial  0.419501\n",
      "13   fruits         kandinsky_2_2,        Mixed  0.573696\n",
      "14   fruits        openjourney_v4,   Artificial  0.441043\n",
      "15   fruits        openjourney_v4,        Mixed  0.583900\n",
      "16   fruits  realistic_vision_1_4,   Artificial  0.417234\n",
      "17   fruits  realistic_vision_1_4,        Mixed  0.658730\n",
      "18   fruits  stable_diffusion_2_1,   Artificial  0.453515\n",
      "19   fruits  stable_diffusion_2_1,        Mixed  0.585034\n"
     ]
    }
   ],
   "source": [
    "df['model'].fillna('None', inplace=True)\n",
    "average_accuracies = df.groupby(['theme', 'model', 'dataset']).accuracy.mean().reset_index()\n",
    "print(average_accuracies)"
   ]
  },
  {
   "cell_type": "code",
   "execution_count": null,
   "metadata": {},
   "outputs": [],
   "source": []
  }
 ],
 "metadata": {
  "kernelspec": {
   "display_name": "tcc",
   "language": "python",
   "name": "python3"
  },
  "language_info": {
   "codemirror_mode": {
    "name": "ipython",
    "version": 3
   },
   "file_extension": ".py",
   "mimetype": "text/x-python",
   "name": "python",
   "nbconvert_exporter": "python",
   "pygments_lexer": "ipython3",
   "version": "3.10.12"
  }
 },
 "nbformat": 4,
 "nbformat_minor": 2
}
