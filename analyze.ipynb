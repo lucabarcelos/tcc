{
 "cells": [
  {
   "cell_type": "code",
   "execution_count": 1,
   "metadata": {},
   "outputs": [],
   "source": [
    "import pandas as pd\n",
    "from utils import parse_log_file"
   ]
  },
  {
   "cell_type": "code",
   "execution_count": 6,
   "metadata": {},
   "outputs": [
    {
     "name": "stdout",
     "output_type": "stream",
     "text": [
      "       theme                  model      dataset  accuracy\n",
      "0    animals                   None         Real  0.646341\n",
      "1    animals                   None  Subset_real  0.554878\n",
      "2    animals  stable_diffusion_2_1,   Artificial  0.335366\n",
      "3    animals  stable_diffusion_2_1,        Mixed  0.646341\n",
      "4    animals  realistic_vision_1_4,   Artificial  0.237805\n",
      "..       ...                    ...          ...       ...\n",
      "329   fruits  realistic_vision_1_4,        Mixed  0.634921\n",
      "330   fruits         kandinsky_2_2,   Artificial  0.333333\n",
      "331   fruits         kandinsky_2_2,        Mixed  0.682540\n",
      "332   fruits        openjourney_v4,   Artificial  0.349206\n",
      "333   fruits        openjourney_v4,        Mixed  0.777778\n",
      "\n",
      "[334 rows x 4 columns]\n"
     ]
    }
   ],
   "source": [
    "df = pd.DataFrame(parse_log_file('testlogs.txt'))\n",
    "print(df)"
   ]
  },
  {
   "cell_type": "code",
   "execution_count": null,
   "metadata": {},
   "outputs": [],
   "source": []
  }
 ],
 "metadata": {
  "kernelspec": {
   "display_name": "tcc",
   "language": "python",
   "name": "python3"
  },
  "language_info": {
   "codemirror_mode": {
    "name": "ipython",
    "version": 3
   },
   "file_extension": ".py",
   "mimetype": "text/x-python",
   "name": "python",
   "nbconvert_exporter": "python",
   "pygments_lexer": "ipython3",
   "version": "3.10.12"
  }
 },
 "nbformat": 4,
 "nbformat_minor": 2
}
